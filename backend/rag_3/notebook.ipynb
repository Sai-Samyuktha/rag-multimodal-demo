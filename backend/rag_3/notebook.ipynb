{
 "cells": [
  {
   "cell_type": "markdown",
   "metadata": {},
   "source": [
    "# RAG 3 : PDF ingestion and RAG"
   ]
  },
  {
   "cell_type": "code",
   "execution_count": null,
   "metadata": {},
   "outputs": [],
   "source": [
    "%load_ext autoreload\n",
    "%autoreload 2"
   ]
  },
  {
   "cell_type": "code",
   "execution_count": null,
   "metadata": {},
   "outputs": [],
   "source": [
    "import os\n",
    "from pathlib import Path\n",
    "\n",
    "from dotenv import load_dotenv\n",
    "\n",
    "os.chdir(Path.cwd().joinpath(\"../..\"))\n",
    "print(Path.cwd())\n",
    "load_dotenv(override=True)"
   ]
  },
  {
   "cell_type": "code",
   "execution_count": null,
   "metadata": {},
   "outputs": [],
   "source": [
    "import time\n",
    "from pathlib import Path\n",
    "\n",
    "from hydra import compose, initialize\n",
    "from unstructured.partition.pdf import partition_pdf\n",
    "\n",
    "from backend.rag_3.chain import get_chain\n",
    "from backend.rag_3.config import validate_config\n",
    "from backend.rag_3.ingest import (\n",
    "    apply_summarize_image,\n",
    "    apply_summarize_table,\n",
    "    apply_summarize_text,\n",
    ")\n",
    "from backend.utils.elements import langchain_doc_to_element\n",
    "from backend.utils.retriever import add_documents_multivector, get_retriever\n",
    "from backend.utils.unstructured import (\n",
    "    load_chunking_func,\n",
    "    select_images,\n",
    "    select_tables,\n",
    "    select_texts,\n",
    ")\n",
    "\n",
    "t = time.time()"
   ]
  },
  {
   "cell_type": "code",
   "execution_count": null,
   "metadata": {},
   "outputs": [],
   "source": [
    "N_DISPLAY = 5"
   ]
  },
  {
   "cell_type": "code",
   "execution_count": null,
   "metadata": {},
   "outputs": [],
   "source": [
    "with initialize(config_path=\".\", version_base=None):\n",
    "    config = compose(config_name=\"config\")\n",
    "    print(config)\n",
    "\n",
    "    # validate config\n",
    "    _ = validate_config(config)"
   ]
  },
  {
   "cell_type": "code",
   "execution_count": null,
   "metadata": {},
   "outputs": [],
   "source": [
    "# Folder with pdf and extracted images\n",
    "filename = \"Attention.pdf\"\n",
    "file_path = Path(config.path.docs, filename)\n",
    "print(file_path)"
   ]
  },
  {
   "cell_type": "code",
   "execution_count": null,
   "metadata": {},
   "outputs": [],
   "source": [
    "%%time\n",
    "# Get elements\n",
    "raw_pdf_elements = partition_pdf(\n",
    "    filename=file_path,\n",
    "    infer_table_structure=True,\n",
    "    extract_image_block_types=[\"image\", \"table\"],\n",
    "    extract_image_block_to_payload=True,\n",
    ")"
   ]
  },
  {
   "cell_type": "code",
   "execution_count": null,
   "metadata": {},
   "outputs": [],
   "source": [
    "raw_pdf_elements"
   ]
  },
  {
   "cell_type": "code",
   "execution_count": null,
   "metadata": {},
   "outputs": [],
   "source": [
    "# Get images\n",
    "images = select_images(raw_pdf_elements)\n",
    "for image in images[:N_DISPLAY]:\n",
    "    display(image)"
   ]
  },
  {
   "cell_type": "code",
   "execution_count": null,
   "metadata": {},
   "outputs": [],
   "source": [
    "# Get chunks\n",
    "if config.ingest.chunking_enable:\n",
    "    chunk_func = load_chunking_func(config)\n",
    "    chunks = chunk_func(raw_pdf_elements)\n",
    "else:\n",
    "    chunks = raw_pdf_elements\n",
    "chunks"
   ]
  },
  {
   "cell_type": "code",
   "execution_count": null,
   "metadata": {},
   "outputs": [],
   "source": [
    "# Get text, tables\n",
    "texts = select_texts(chunks, config.ingest.metadata_keys)\n",
    "tables = select_tables(chunks, config.ingest.table_format, config.ingest.metadata_keys)"
   ]
  },
  {
   "cell_type": "code",
   "execution_count": null,
   "metadata": {},
   "outputs": [],
   "source": [
    "for text in texts[:N_DISPLAY]:\n",
    "    display(text)"
   ]
  },
  {
   "cell_type": "code",
   "execution_count": null,
   "metadata": {},
   "outputs": [],
   "source": [
    "for table in tables[:N_DISPLAY]:\n",
    "    display(table)"
   ]
  },
  {
   "cell_type": "code",
   "execution_count": null,
   "metadata": {},
   "outputs": [],
   "source": [
    "# Summarize text\n",
    "await apply_summarize_text(texts, config)\n",
    "for text in texts[:N_DISPLAY]:\n",
    "    display(text)"
   ]
  },
  {
   "cell_type": "code",
   "execution_count": null,
   "metadata": {},
   "outputs": [],
   "source": [
    "# Summarize tables\n",
    "await apply_summarize_table(tables, config)\n",
    "for table in tables[:N_DISPLAY]:\n",
    "    display(table)"
   ]
  },
  {
   "cell_type": "code",
   "execution_count": null,
   "metadata": {},
   "outputs": [],
   "source": [
    "# Summarize images\n",
    "await apply_summarize_image(images, config)\n",
    "for image in images[:N_DISPLAY]:\n",
    "    display(image)"
   ]
  },
  {
   "cell_type": "code",
   "execution_count": null,
   "metadata": {},
   "outputs": [],
   "source": [
    "retriever = get_retriever(config)"
   ]
  },
  {
   "cell_type": "code",
   "execution_count": null,
   "metadata": {},
   "outputs": [],
   "source": [
    "# Add texts to retriever\n",
    "text_summaries = [text.get_summary() for text in texts]\n",
    "text_contents = [text.get_content() for text in texts]\n",
    "text_metadata = [text.get_metadata() for text in texts]\n",
    "\n",
    "add_documents_multivector(\n",
    "    retriever=retriever,\n",
    "    doc_summaries=text_summaries,\n",
    "    doc_contents_str=text_contents,\n",
    "    doc_metadata=text_metadata,\n",
    ")"
   ]
  },
  {
   "cell_type": "code",
   "execution_count": null,
   "metadata": {},
   "outputs": [],
   "source": [
    "# Add tables to retriever\n",
    "table_summaries = [table.get_summary() for table in tables]\n",
    "table_contents = [table.get_content() for table in tables]\n",
    "table_metadata = [table.get_metadata() for table in tables]\n",
    "\n",
    "add_documents_multivector(\n",
    "    retriever=retriever,\n",
    "    doc_summaries=table_summaries,\n",
    "    doc_contents_str=table_contents,\n",
    "    doc_metadata=table_metadata,\n",
    ")"
   ]
  },
  {
   "cell_type": "code",
   "execution_count": null,
   "metadata": {},
   "outputs": [],
   "source": [
    "# Add images to retriever\n",
    "image_summaries = [image.get_summary() for image in images]\n",
    "image_contents = [image.get_content() for image in images]\n",
    "image_metadata = [image.get_metadata() for image in images]\n",
    "\n",
    "add_documents_multivector(\n",
    "    retriever=retriever,\n",
    "    doc_summaries=image_summaries,\n",
    "    doc_contents_str=image_contents,\n",
    "    doc_metadata=image_metadata,\n",
    ")"
   ]
  },
  {
   "cell_type": "code",
   "execution_count": null,
   "metadata": {},
   "outputs": [],
   "source": [
    "docs = retriever.get_relevant_documents(query=\"Transformer Architecture\")\n",
    "\n",
    "elements = langchain_doc_to_element(docs)\n",
    "for element in elements:\n",
    "    display(element)"
   ]
  },
  {
   "cell_type": "code",
   "execution_count": null,
   "metadata": {},
   "outputs": [],
   "source": [
    "chain = get_chain(config)"
   ]
  },
  {
   "cell_type": "code",
   "execution_count": null,
   "metadata": {},
   "outputs": [],
   "source": [
    "# Page 3\n",
    "chain.invoke(\"Describe the Transformer architecture\")"
   ]
  },
  {
   "cell_type": "code",
   "execution_count": null,
   "metadata": {},
   "outputs": [],
   "source": [
    "# Page 6\n",
    "chain.invoke(\"What is the complexity of self-attention?\")"
   ]
  },
  {
   "cell_type": "code",
   "execution_count": null,
   "metadata": {},
   "outputs": [],
   "source": [
    "# Page 6\n",
    "chain.invoke(\"Explain the formula of positional encoding\")"
   ]
  },
  {
   "cell_type": "code",
   "execution_count": null,
   "metadata": {},
   "outputs": [],
   "source": [
    "# Page 8\n",
    "chain.invoke(\"What are the BLEU performance of Transformer?\")"
   ]
  },
  {
   "cell_type": "code",
   "execution_count": null,
   "metadata": {},
   "outputs": [],
   "source": [
    "# No mention\n",
    "chain.invoke(\"What are the ROUGE performance of Transformer?\")"
   ]
  },
  {
   "cell_type": "code",
   "execution_count": null,
   "metadata": {},
   "outputs": [],
   "source": [
    "# Page 9\n",
    "chain.invoke(\"Describe the variations of Transformer\")"
   ]
  },
  {
   "cell_type": "code",
   "execution_count": null,
   "metadata": {},
   "outputs": [],
   "source": [
    "# Page 9\n",
    "chain.invoke(\"Between variations A and B, which one is better on PPL?\")"
   ]
  },
  {
   "cell_type": "code",
   "execution_count": null,
   "metadata": {},
   "outputs": [],
   "source": [
    "# Page 10\n",
    "chain.invoke(\"Is Transformer performing well on English constituency parsing?\")"
   ]
  },
  {
   "cell_type": "code",
   "execution_count": null,
   "metadata": {},
   "outputs": [],
   "source": [
    "# Page 13\n",
    "chain.invoke(\"What words are connected to `making` in the weight visualization?\")"
   ]
  },
  {
   "cell_type": "code",
   "execution_count": null,
   "metadata": {},
   "outputs": [],
   "source": [
    "# Page 13\n",
    "chain.invoke(\"Is `governments` connected to `making` in the weight visualization?\")"
   ]
  },
  {
   "cell_type": "code",
   "execution_count": null,
   "metadata": {},
   "outputs": [],
   "source": [
    "# Page 13\n",
    "chain.invoke(\"Is `2009` connected to `making`?\")"
   ]
  },
  {
   "cell_type": "code",
   "execution_count": null,
   "metadata": {},
   "outputs": [],
   "source": [
    "# Page 14\n",
    "chain.invoke(\"What words are associated with `its` in heads 5 and 6?\")"
   ]
  },
  {
   "cell_type": "code",
   "execution_count": null,
   "metadata": {},
   "outputs": [],
   "source": [
    "# Page 14\n",
    "chain.invoke(\n",
    "    \"What word has connection with `its` on only one head (heads between 5 and 6)?\"\n",
    ")"
   ]
  },
  {
   "cell_type": "code",
   "execution_count": null,
   "metadata": {},
   "outputs": [],
   "source": [
    "# Page 14\n",
    "chain.invoke(\n",
    "    \"What word has connection with `its` on only one head (heads between 1 and 4)?\"\n",
    ")"
   ]
  },
  {
   "cell_type": "code",
   "execution_count": null,
   "metadata": {},
   "outputs": [],
   "source": [
    "# Page 14\n",
    "chain.invoke(\"What word has connection with `its` on 2 heads?\")"
   ]
  },
  {
   "cell_type": "code",
   "execution_count": null,
   "metadata": {},
   "outputs": [],
   "source": [
    "print(f\"Total time: {time.strftime('%H:%M:%S', time.gmtime(time.time() - t))}\")"
   ]
  }
 ],
 "metadata": {
  "kernelspec": {
   "display_name": "rag-multimodal-demo-SErD85uS-py3.10",
   "language": "python",
   "name": "python3"
  },
  "language_info": {
   "codemirror_mode": {
    "name": "ipython",
    "version": 3
   },
   "file_extension": ".py",
   "mimetype": "text/x-python",
   "name": "python",
   "nbconvert_exporter": "python",
   "pygments_lexer": "ipython3",
   "version": "3.10.13"
  }
 },
 "nbformat": 4,
 "nbformat_minor": 2
}
