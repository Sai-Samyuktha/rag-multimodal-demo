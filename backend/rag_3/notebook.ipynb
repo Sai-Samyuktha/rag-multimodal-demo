{
 "cells": [
  {
   "cell_type": "code",
   "execution_count": null,
   "metadata": {},
   "outputs": [],
   "source": [
    "%load_ext autoreload\n",
    "%autoreload 2"
   ]
  },
  {
   "cell_type": "code",
   "execution_count": null,
   "metadata": {},
   "outputs": [],
   "source": [
    "import os\n",
    "\n",
    "from dotenv import load_dotenv\n",
    "\n",
    "os.chdir(os.path.join(os.getcwd(), \"../..\"))\n",
    "print(os.getcwd())\n",
    "load_dotenv(override=True)"
   ]
  },
  {
   "cell_type": "code",
   "execution_count": null,
   "metadata": {},
   "outputs": [],
   "source": [
    "from backend.utils.unstructured import (\n",
    "    select_images,\n",
    "    select_texts,\n",
    "    select_tables,\n",
    "    load_chunking_func,\n",
    ")\n",
    "from backend.utils.elements import langchain_doc_to_element\n",
    "from backend.utils.retriever import get_retriever, add_documents\n",
    "from pathlib import Path\n",
    "from unstructured.partition.pdf import partition_pdf\n",
    "\n",
    "from hydra import initialize, compose\n",
    "\n",
    "from backend.rag_3.ingest import (\n",
    "    apply_summarize_text,\n",
    "    apply_summarize_image,\n",
    "    apply_summarize_table,\n",
    ")\n",
    "from backend.rag_3.chain import get_chain"
   ]
  },
  {
   "cell_type": "code",
   "execution_count": null,
   "metadata": {},
   "outputs": [],
   "source": [
    "with initialize(config_path=\".\", version_base=None):\n",
    "    config = compose(config_name=\"config\")\n",
    "    print(config)"
   ]
  },
  {
   "cell_type": "code",
   "execution_count": null,
   "metadata": {},
   "outputs": [],
   "source": [
    "# Folder with pdf and extracted images\n",
    "filename = \"LLaVA_small.pdf\"\n",
    "file_path = Path(config.path.docs, filename)\n",
    "print(file_path)"
   ]
  },
  {
   "cell_type": "code",
   "execution_count": null,
   "metadata": {},
   "outputs": [],
   "source": [
    "# Get elements\n",
    "raw_pdf_elements = partition_pdf(\n",
    "    filename=file_path,\n",
    "    infer_table_structure=True,\n",
    "    extract_image_block_types=[\"image\", \"table\"],\n",
    "    extract_image_block_to_payload=True,\n",
    ")"
   ]
  },
  {
   "cell_type": "code",
   "execution_count": null,
   "metadata": {},
   "outputs": [],
   "source": [
    "raw_pdf_elements"
   ]
  },
  {
   "cell_type": "code",
   "execution_count": null,
   "metadata": {},
   "outputs": [],
   "source": [
    "# Get images\n",
    "images = select_images(raw_pdf_elements)\n",
    "for image in images:\n",
    "    display(image)"
   ]
  },
  {
   "cell_type": "code",
   "execution_count": null,
   "metadata": {},
   "outputs": [],
   "source": [
    "# Get chunks\n",
    "if config.ingest.chunking.enable:\n",
    "    chunk_func = load_chunking_func(config)\n",
    "    chunks = chunk_func(raw_pdf_elements)\n",
    "else:\n",
    "    chunks = raw_pdf_elements\n",
    "chunks"
   ]
  },
  {
   "cell_type": "code",
   "execution_count": null,
   "metadata": {},
   "outputs": [],
   "source": [
    "# Get text, tables\n",
    "texts = select_texts(chunks, config.ingest.metadata_keys)\n",
    "tables = select_tables(chunks, config.ingest.table_format, config.ingest.metadata_keys)"
   ]
  },
  {
   "cell_type": "code",
   "execution_count": null,
   "metadata": {},
   "outputs": [],
   "source": [
    "a = \"\"\"Haotian Liu1∗, Chunyuan Li2∗, Qingyang Wu3, Yong Jae Lee1\n",
    "\n",
    "1University of Wisconsin–Madison 2Microsoft Research 3Columbia University https://llava-vl.github.io\n",
    "\n",
    "Abstract\n",
    "\n",
    "Instruction tuning large language models (LLMs) using machine-generated instruction-following data has improved zero-shot capabilities on new tasks, but the idea is less explored in the multimodal ﬁeld. In this paper, we present the ﬁrst att\"\"\""
   ]
  },
  {
   "cell_type": "code",
   "execution_count": null,
   "metadata": {},
   "outputs": [],
   "source": [
    "for text in texts:\n",
    "    display(text)"
   ]
  },
  {
   "cell_type": "code",
   "execution_count": null,
   "metadata": {},
   "outputs": [],
   "source": [
    "for table in tables:\n",
    "    display(table)"
   ]
  },
  {
   "cell_type": "code",
   "execution_count": null,
   "metadata": {},
   "outputs": [],
   "source": [
    "# Summarize text\n",
    "await apply_summarize_text(texts, config)\n",
    "for text in texts:\n",
    "    display(text)"
   ]
  },
  {
   "cell_type": "code",
   "execution_count": null,
   "metadata": {},
   "outputs": [],
   "source": [
    "# Summarize tables\n",
    "await apply_summarize_table(tables, config)\n",
    "for table in tables:\n",
    "    display(table)"
   ]
  },
  {
   "cell_type": "code",
   "execution_count": null,
   "metadata": {},
   "outputs": [],
   "source": [
    "# Summarize images\n",
    "await apply_summarize_image(images, config)\n",
    "for image in images:\n",
    "    display(image)"
   ]
  },
  {
   "cell_type": "code",
   "execution_count": null,
   "metadata": {},
   "outputs": [],
   "source": [
    "retriever = get_retriever(config)"
   ]
  },
  {
   "cell_type": "code",
   "execution_count": null,
   "metadata": {},
   "outputs": [],
   "source": [
    "# Add texts to retriever\n",
    "text_summaries = [text.get_summary() for text in texts]\n",
    "text_contents = [text.get_content() for text in texts]\n",
    "text_metadata = [text.get_metadata() for text in texts]\n",
    "\n",
    "add_documents(\n",
    "    retriever=retriever,\n",
    "    doc_summaries=text_summaries,\n",
    "    doc_contents_str=text_contents,\n",
    "    doc_metadata=text_metadata,\n",
    ")"
   ]
  },
  {
   "cell_type": "code",
   "execution_count": null,
   "metadata": {},
   "outputs": [],
   "source": [
    "# Add tables to retriever\n",
    "table_summaries = [table.get_summary() for table in tables]\n",
    "table_contents = [table.get_content() for table in tables]\n",
    "table_metadata = [table.get_metadata() for table in tables]\n",
    "\n",
    "add_documents(\n",
    "    retriever=retriever,\n",
    "    doc_summaries=table_summaries,\n",
    "    doc_contents_str=table_contents,\n",
    "    doc_metadata=table_metadata,\n",
    ")"
   ]
  },
  {
   "cell_type": "code",
   "execution_count": null,
   "metadata": {},
   "outputs": [],
   "source": [
    "# Add images to retriever\n",
    "image_summaries = [image.get_summary() for image in images]\n",
    "image_contents = [image.get_content() for image in images]\n",
    "image_metadata = [image.get_metadata() for image in images]\n",
    "\n",
    "add_documents(\n",
    "    retriever=retriever,\n",
    "    doc_summaries=image_summaries,\n",
    "    doc_contents_str=image_contents,\n",
    "    doc_metadata=image_metadata,\n",
    ")"
   ]
  },
  {
   "cell_type": "code",
   "execution_count": null,
   "metadata": {},
   "outputs": [],
   "source": [
    "docs = retriever.get_relevant_documents(\n",
    "    query=\"instruction tuning large language models\"\n",
    ")\n",
    "\n",
    "elements = langchain_doc_to_element(docs)\n",
    "for element in elements:\n",
    "    display(element)"
   ]
  },
  {
   "cell_type": "code",
   "execution_count": null,
   "metadata": {},
   "outputs": [],
   "source": [
    "chain = get_chain(config)"
   ]
  },
  {
   "cell_type": "code",
   "execution_count": null,
   "metadata": {},
   "outputs": [],
   "source": [
    "chain.invoke(\"What is the relative score of GPT-4 ?\")"
   ]
  },
  {
   "cell_type": "code",
   "execution_count": null,
   "metadata": {},
   "outputs": [],
   "source": [
    "chain.invoke(\"What is the relative score of GPT-4 ?\")"
   ]
  },
  {
   "cell_type": "code",
   "execution_count": null,
   "metadata": {},
   "outputs": [],
   "source": [
    "chain.invoke(\"Describe the picture of Mona Lisa\")"
   ]
  },
  {
   "cell_type": "code",
   "execution_count": null,
   "metadata": {},
   "outputs": [],
   "source": []
  }
 ],
 "metadata": {
  "kernelspec": {
   "display_name": "rag-multimodal-demo-SErD85uS-py3.10",
   "language": "python",
   "name": "python3"
  },
  "language_info": {
   "codemirror_mode": {
    "name": "ipython",
    "version": 3
   },
   "file_extension": ".py",
   "mimetype": "text/x-python",
   "name": "python",
   "nbconvert_exporter": "python",
   "pygments_lexer": "ipython3",
   "version": "3.10.13"
  }
 },
 "nbformat": 4,
 "nbformat_minor": 2
}
